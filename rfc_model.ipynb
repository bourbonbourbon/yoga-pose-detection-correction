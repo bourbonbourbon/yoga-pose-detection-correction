{
 "cells": [
  {
   "cell_type": "code",
   "execution_count": 1,
   "metadata": {},
   "outputs": [],
   "source": [
    "import pandas as pd\n",
    "import numpy as np\n",
    "import pickle as pk\n",
    "from sklearn.ensemble import RandomForestClassifier\n",
    "from sklearn.metrics import classification_report\n",
    "from sklearn.model_selection import train_test_split\n",
    "\n",
    "import warnings\n",
    "warnings.filterwarnings(\"ignore\")\n"
   ]
  },
  {
   "cell_type": "code",
   "execution_count": 7,
   "metadata": {},
   "outputs": [
    {
     "name": "stdout",
     "output_type": "stream",
     "text": [
      "              precision    recall  f1-score   support\n",
      "\n",
      "           0       0.92      0.97      0.94        34\n",
      "           1       0.99      0.99      0.99       116\n",
      "           2       0.91      0.96      0.93       110\n",
      "           3       1.00      0.80      0.89        30\n",
      "           4       1.00      1.00      1.00        41\n",
      "           5       0.89      0.98      0.93       123\n",
      "           6       1.00      0.31      0.47        13\n",
      "           7       0.96      0.97      0.97       118\n",
      "           8       1.00      0.93      0.96        41\n",
      "           9       0.96      0.96      0.96        45\n",
      "          10       0.97      0.93      0.95       118\n",
      "\n",
      "    accuracy                           0.95       789\n",
      "   macro avg       0.96      0.89      0.91       789\n",
      "weighted avg       0.95      0.95      0.95       789\n",
      "\n"
     ]
    }
   ],
   "source": [
    "data_pose = pd.read_csv(\"./csv_files/11_poses_data_pose.csv\")\n",
    "features = data_pose.drop([\"pose\"], axis=1)\n",
    "target = data_pose[[\"pose\"]]\n",
    "\n",
    "X_train, X_test, y_train, y_test = train_test_split(features, target, test_size=0.6)\n",
    "\n",
    "data_all_pose_model = RandomForestClassifier()\n",
    "data_all_pose_model.fit(X_train, y_train)\n",
    "\n",
    "print(classification_report(y_test, data_all_pose_model.predict(X_test)))\n"
   ]
  },
  {
   "cell_type": "code",
   "execution_count": null,
   "metadata": {},
   "outputs": [],
   "source": [
    "names = {\n",
    "        0: \"Ardha Chandrasana\",\n",
    "        1: \"Downdog\",\n",
    "        2: \"Goddess\",\n",
    "        3: \"Marjaryasana\",\n",
    "        4: \"Padmasana\",\n",
    "        5: \"Plank\",\n",
    "        6: \"Sivasana\",\n",
    "        7: \"Tree\",\n",
    "        8: \"Urdhvamukha shvanasana\",\n",
    "        9: \"Utkatasana\",\n",
    "        10: \"Warrior\"\n",
    "    }\n"
   ]
  },
  {
   "cell_type": "code",
   "execution_count": 8,
   "metadata": {},
   "outputs": [],
   "source": [
    "pk.dump(data_all_pose_model, open(\"./models/11_poses.model\", \"wb\"))\n"
   ]
  },
  {
   "cell_type": "code",
   "execution_count": 29,
   "metadata": {},
   "outputs": [],
   "source": [
    "poses = {\n",
    "    0: \"Anantasana\",\n",
    "    1: \"Ardhakati_Chakrasana\",\n",
    "    2: \"Bhujangasana\",\n",
    "    3: \"Kati_Chakrasana\",\n",
    "    4: \"Marjariasana\",\n",
    "    5: \"Parvatasana\",\n",
    "    6: \"Sarvangasana\",\n",
    "    7: \"Tadasana\",\n",
    "    8: \"Vajrasana\",\n",
    "    9: \"Viparita_Karani\"\n",
    "}\n"
   ]
  },
  {
   "cell_type": "code",
   "execution_count": 30,
   "metadata": {},
   "outputs": [],
   "source": [
    "data_pose = pd.read_csv(\"./csv_files/data_pose.csv\")\n",
    "features = data_pose.drop([\"pose\"], axis=1)\n",
    "target = data_pose[[\"pose\"]]\n"
   ]
  },
  {
   "cell_type": "code",
   "execution_count": 32,
   "metadata": {},
   "outputs": [
    {
     "name": "stdout",
     "output_type": "stream",
     "text": [
      "1.0\n"
     ]
    }
   ],
   "source": [
    "loaded_model = pk.load(open(\"./models/data_pose.model\", \"rb\"))\n",
    "result = loaded_model.score(features, target)\n",
    "print(result)\n"
   ]
  }
 ],
 "metadata": {
  "kernelspec": {
   "display_name": "venv",
   "language": "python",
   "name": "python3"
  },
  "language_info": {
   "codemirror_mode": {
    "name": "ipython",
    "version": 3
   },
   "file_extension": ".py",
   "mimetype": "text/x-python",
   "name": "python",
   "nbconvert_exporter": "python",
   "pygments_lexer": "ipython3",
   "version": "3.10.11"
  }
 },
 "nbformat": 4,
 "nbformat_minor": 2
}
