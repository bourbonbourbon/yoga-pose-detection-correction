{
 "cells": [
  {
   "cell_type": "code",
   "execution_count": null,
   "metadata": {},
   "outputs": [],
   "source": [
    "import pandas as pd\n"
   ]
  },
  {
   "cell_type": "code",
   "execution_count": null,
   "metadata": {},
   "outputs": [],
   "source": [
    "angles_dict = {\n",
    "    \"armpit_left\": 0,\n",
    "    \"armpit_right\": 1,\n",
    "    \"elbow_left\": 2,\n",
    "    \"elbow_right\": 3,\n",
    "    \"hip_left\": 4,\n",
    "    \"hip_right\": 5,\n",
    "    \"knee_left\": 6,\n",
    "    \"knee_right\": 7,\n",
    "    \"ankle_left\": 8,\n",
    "    \"ankle_right\": 9,\n",
    "}\n"
   ]
  },
  {
   "cell_type": "code",
   "execution_count": null,
   "metadata": {},
   "outputs": [],
   "source": [
    "df = pd.read_csv(\"./csv_files/11_poses_angles.csv\")\n"
   ]
  },
  {
   "cell_type": "code",
   "execution_count": null,
   "metadata": {},
   "outputs": [],
   "source": [
    "def check_joint(angles, joint_name, threshold, body_position):\n",
    "    joint_index = angles_dict[joint_name]\n",
    "\n",
    "    if angles[joint_index] > threshold:\n",
    "        return f\"Bring {joint_name.replace('_', ' ')} closer to {body_position}.\"\n",
    "    elif angles[joint_index] < threshold:\n",
    "        return f\"Put {joint_name.replace('_', ' ')} further away from {body_position}.\"\n",
    "\n",
    "    return None\n"
   ]
  },
  {
   "cell_type": "code",
   "execution_count": null,
   "metadata": {},
   "outputs": [],
   "source": [
    "def check_pose_angle(pose_index, angles):\n",
    "    result = []\n",
    "\n",
    "    result.append(check_joint(\n",
    "        angles,\n",
    "        \"armpit_left\",\n",
    "        int(df.loc[pose_index, \"armpit_left\"]),\n",
    "        \"body\"\n",
    "    ))\n",
    "    result.append(check_joint(\n",
    "        angles,\n",
    "        \"armpit_right\",\n",
    "        int(df.loc[pose_index, \"armpit_right\"]),\n",
    "        \"body\"\n",
    "    ))\n",
    "    result.append(check_joint(\n",
    "        angles,\n",
    "        \"elbow_left\",\n",
    "        int(df.loc[pose_index, \"elbow_left\"]),\n",
    "        \"arm\"\n",
    "    ))\n",
    "    result.append(check_joint(\n",
    "        angles,\n",
    "        \"elbow_right\",\n",
    "        int(df.loc[pose_index, \"elbow_right\"]),\n",
    "        \"arm\"\n",
    "    ))\n",
    "    result.append(check_joint(\n",
    "        angles,\n",
    "        \"hip_left\",\n",
    "        int(df.loc[pose_index, \"hip_left\"]),\n",
    "        \"pelvis\"\n",
    "    ))\n",
    "    result.append(check_joint(\n",
    "        angles,\n",
    "        \"hip_right\",\n",
    "        int(df.loc[pose_index, \"hip_right\"]),\n",
    "        \"pelvis\"\n",
    "    ))\n",
    "    result.append(check_joint(\n",
    "        angles,\n",
    "        \"knee_left\",\n",
    "        int(df.loc[pose_index, \"knee_left\"]),\n",
    "        \"calf\"\n",
    "    ))\n",
    "    result.append(check_joint(\n",
    "        angles,\n",
    "        \"knee_right\",\n",
    "        int(df.loc[pose_index, \"knee_right\"]),\n",
    "        \"calf\"\n",
    "    ))\n",
    "    result.append(check_joint(\n",
    "        angles,\n",
    "        \"ankle_left\",\n",
    "        int(df.loc[pose_index, \"ankle_left\"]),\n",
    "        \"ankle\"\n",
    "    ))\n",
    "    result.append(check_joint(\n",
    "        angles,\n",
    "        \"ankle_right\",\n",
    "        int(df.loc[pose_index, \"ankle_right\"]),\n",
    "        \"ankle\"\n",
    "    ))\n",
    "\n",
    "    return [message for message in result if message is not None]\n"
   ]
  }
 ],
 "metadata": {
  "kernelspec": {
   "display_name": "venv",
   "language": "python",
   "name": "python3"
  },
  "language_info": {
   "name": "python",
   "version": "3.10.11"
  }
 },
 "nbformat": 4,
 "nbformat_minor": 2
}
