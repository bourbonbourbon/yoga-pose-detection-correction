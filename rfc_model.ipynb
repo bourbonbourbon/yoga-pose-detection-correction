{
 "cells": [
  {
   "cell_type": "code",
   "execution_count": 95,
   "metadata": {},
   "outputs": [],
   "source": [
    "import pandas as pd\n",
    "import numpy as np\n",
    "import pickle as pk\n",
    "from sklearn.ensemble import RandomForestClassifier\n",
    "from sklearn.metrics import classification_report\n",
    "\n",
    "import warnings\n",
    "warnings.filterwarnings(\"ignore\")\n"
   ]
  },
  {
   "cell_type": "code",
   "execution_count": 96,
   "metadata": {},
   "outputs": [
    {
     "name": "stdout",
     "output_type": "stream",
     "text": [
      "              precision    recall  f1-score   support\n",
      "\n",
      "           0       0.72      0.75      0.73       624\n",
      "           1       1.00      1.00      1.00       506\n",
      "           2       1.00      1.00      1.00       647\n",
      "           3       1.00      1.00      1.00       320\n",
      "           4       1.00      1.00      1.00       833\n",
      "           5       1.00      1.00      1.00      1369\n",
      "           6       0.51      0.51      0.51       339\n",
      "           7       1.00      1.00      1.00       854\n",
      "           8       1.00      1.00      1.00        65\n",
      "           9       0.55      0.51      0.53       355\n",
      "\n",
      "    accuracy                           0.92      5912\n",
      "   macro avg       0.88      0.88      0.88      5912\n",
      "weighted avg       0.92      0.92      0.92      5912\n",
      "\n"
     ]
    }
   ],
   "source": [
    "data_pose = pd.read_csv(\"./csv_files/all_data_pose.csv\")\n",
    "features = data_pose.drop([\"pose\"], axis=1)\n",
    "target = data_pose[[\"pose\"]]\n",
    "\n",
    "data_all_pose_model = RandomForestClassifier()\n",
    "data_all_pose_model.fit(features, target)\n",
    "print(classification_report(target, data_all_pose_model.predict(features)))\n"
   ]
  },
  {
   "cell_type": "code",
   "execution_count": 97,
   "metadata": {},
   "outputs": [
    {
     "name": "stdout",
     "output_type": "stream",
     "text": [
      "              precision    recall  f1-score   support\n",
      "\n",
      "           1       1.00      1.00      1.00       506\n",
      "           3       1.00      1.00      1.00       320\n",
      "           4       1.00      1.00      1.00       833\n",
      "           5       1.00      1.00      1.00      1369\n",
      "           8       1.00      1.00      1.00        65\n",
      "\n",
      "    accuracy                           1.00      3093\n",
      "   macro avg       1.00      1.00      1.00      3093\n",
      "weighted avg       1.00      1.00      1.00      3093\n",
      "\n"
     ]
    }
   ],
   "source": [
    "data_pose = pd.read_csv(\"./csv_files/data_pose.csv\")\n",
    "features = data_pose.drop([\"pose\"], axis=1)\n",
    "target = data_pose[[\"pose\"]]\n",
    "\n",
    "data_pose_model = RandomForestClassifier()\n",
    "data_pose_model.fit(features, target)\n",
    "print(classification_report(target, data_pose_model.predict(features)))\n"
   ]
  },
  {
   "cell_type": "code",
   "execution_count": 98,
   "metadata": {},
   "outputs": [],
   "source": [
    "# anant = pd.read_csv(\"./csv_files/Anantasana.csv\")\n",
    "# features = anant.drop([\"step\"], axis=1)\n",
    "# target = anant[[\"step\"]]\n",
    "\n",
    "# anant_model = RandomForestClassifier()\n",
    "# anant_model.fit(features, target)\n",
    "\n",
    "# print(classification_report(target, anant_model.predict(features)))\n"
   ]
  },
  {
   "cell_type": "code",
   "execution_count": 99,
   "metadata": {},
   "outputs": [
    {
     "name": "stdout",
     "output_type": "stream",
     "text": [
      "              precision    recall  f1-score   support\n",
      "\n",
      "           0       1.00      1.00      1.00       172\n",
      "           1       1.00      1.00      1.00        97\n",
      "           2       1.00      1.00      1.00        82\n",
      "           3       1.00      1.00      1.00        72\n",
      "           4       1.00      1.00      1.00        83\n",
      "\n",
      "    accuracy                           1.00       506\n",
      "   macro avg       1.00      1.00      1.00       506\n",
      "weighted avg       1.00      1.00      1.00       506\n",
      "\n"
     ]
    }
   ],
   "source": [
    "ardha = pd.read_csv(\"./csv_files/Ardhakati_Chakrasana.csv\")\n",
    "features = ardha.drop([\"step\"], axis=1)\n",
    "target = ardha[[\"step\"]]\n",
    "\n",
    "ardha_model = RandomForestClassifier()\n",
    "ardha_model.fit(features, target)\n",
    "\n",
    "print(classification_report(target, ardha_model.predict(features)))\n"
   ]
  },
  {
   "cell_type": "code",
   "execution_count": 100,
   "metadata": {},
   "outputs": [],
   "source": [
    "# bhuja = pd.read_csv(\"./csv_files/Bhujangasana.csv\")\n",
    "# features = bhuja.drop([\"step\"], axis=1)\n",
    "# target = bhuja[[\"step\"]]\n",
    "\n",
    "# bhuja_model = RandomForestClassifier()\n",
    "# bhuja_model.fit(features, target)\n",
    "\n",
    "# print(classification_report(target, bhuja_model.predict(features)))\n"
   ]
  },
  {
   "cell_type": "code",
   "execution_count": 101,
   "metadata": {},
   "outputs": [
    {
     "name": "stdout",
     "output_type": "stream",
     "text": [
      "              precision    recall  f1-score   support\n",
      "\n",
      "           0       1.00      1.00      1.00        74\n",
      "           1       1.00      1.00      1.00        66\n",
      "           2       1.00      1.00      1.00        98\n",
      "           3       1.00      1.00      1.00        82\n",
      "\n",
      "    accuracy                           1.00       320\n",
      "   macro avg       1.00      1.00      1.00       320\n",
      "weighted avg       1.00      1.00      1.00       320\n",
      "\n"
     ]
    }
   ],
   "source": [
    "katic = pd.read_csv(\"./csv_files/Kati_Chakrasana.csv\")\n",
    "features = katic.drop([\"step\"], axis=1)\n",
    "target = katic[[\"step\"]]\n",
    "\n",
    "katic_model = RandomForestClassifier()\n",
    "katic_model.fit(features, target)\n",
    "\n",
    "print(classification_report(target, katic_model.predict(features)))\n"
   ]
  },
  {
   "cell_type": "code",
   "execution_count": 102,
   "metadata": {},
   "outputs": [
    {
     "name": "stdout",
     "output_type": "stream",
     "text": [
      "              precision    recall  f1-score   support\n",
      "\n",
      "           0       1.00      1.00      1.00       201\n",
      "           1       1.00      1.00      1.00       304\n",
      "           2       1.00      1.00      1.00       163\n",
      "           3       1.00      1.00      1.00       165\n",
      "\n",
      "    accuracy                           1.00       833\n",
      "   macro avg       1.00      1.00      1.00       833\n",
      "weighted avg       1.00      1.00      1.00       833\n",
      "\n"
     ]
    }
   ],
   "source": [
    "marja = pd.read_csv(\"./csv_files/Marjariasana.csv\")\n",
    "features = marja.drop([\"step\"], axis=1)\n",
    "target = marja[[\"step\"]]\n",
    "\n",
    "marja_model = RandomForestClassifier()\n",
    "marja_model.fit(features, target)\n",
    "\n",
    "print(classification_report(target, marja_model.predict(features)))\n"
   ]
  },
  {
   "cell_type": "code",
   "execution_count": 103,
   "metadata": {},
   "outputs": [
    {
     "name": "stdout",
     "output_type": "stream",
     "text": [
      "              precision    recall  f1-score   support\n",
      "\n",
      "           0       1.00      1.00      1.00       212\n",
      "           1       1.00      1.00      1.00       457\n",
      "           2       1.00      1.00      1.00       414\n",
      "           3       1.00      1.00      1.00       286\n",
      "\n",
      "    accuracy                           1.00      1369\n",
      "   macro avg       1.00      1.00      1.00      1369\n",
      "weighted avg       1.00      1.00      1.00      1369\n",
      "\n"
     ]
    }
   ],
   "source": [
    "parva = pd.read_csv(\"./csv_files/Parvatasana.csv\")\n",
    "features = parva.drop([\"step\"], axis=1)\n",
    "target = parva[[\"step\"]]\n",
    "\n",
    "parva_model = RandomForestClassifier()\n",
    "parva_model.fit(features, target)\n",
    "\n",
    "print(classification_report(target, parva_model.predict(features)))\n"
   ]
  },
  {
   "cell_type": "code",
   "execution_count": 104,
   "metadata": {},
   "outputs": [],
   "source": [
    "# sarva = pd.read_csv(\"./csv_files/Sarvangasana.csv\")\n",
    "# features = sarva.drop([\"step\"], axis=1)\n",
    "# target = sarva[[\"step\"]]\n",
    "\n",
    "# sarva_model = RandomForestClassifier()\n",
    "# sarva_model.fit(features, target)\n",
    "\n",
    "# print(classification_report(target, sarva_model.predict(features)))\n"
   ]
  },
  {
   "cell_type": "code",
   "execution_count": 105,
   "metadata": {},
   "outputs": [],
   "source": [
    "# tadas = pd.read_csv(\"./csv_files/Tadasana.csv\")\n",
    "# features = tadas.drop([\"step\"], axis=1)\n",
    "# target = tadas[[\"step\"]]\n",
    "\n",
    "# tadas_model = RandomForestClassifier()\n",
    "# tadas_model.fit(features, target)\n",
    "\n",
    "# print(classification_report(target, tadas_model.predict(features)))\n"
   ]
  },
  {
   "cell_type": "code",
   "execution_count": 106,
   "metadata": {},
   "outputs": [
    {
     "name": "stdout",
     "output_type": "stream",
     "text": [
      "              precision    recall  f1-score   support\n",
      "\n",
      "           0       1.00      1.00      1.00        28\n",
      "           1       1.00      1.00      1.00        37\n",
      "\n",
      "    accuracy                           1.00        65\n",
      "   macro avg       1.00      1.00      1.00        65\n",
      "weighted avg       1.00      1.00      1.00        65\n",
      "\n"
     ]
    }
   ],
   "source": [
    "vajra = pd.read_csv(\"./csv_files/Vajrasana.csv\")\n",
    "features = vajra.drop([\"step\"], axis=1)\n",
    "target = vajra[[\"step\"]]\n",
    "\n",
    "vajra_model = RandomForestClassifier()\n",
    "vajra_model.fit(features, target)\n",
    "\n",
    "print(classification_report(target, vajra_model.predict(features)))\n"
   ]
  },
  {
   "cell_type": "code",
   "execution_count": 107,
   "metadata": {},
   "outputs": [],
   "source": [
    "# vipar = pd.read_csv(\"./csv_files/Viparita_Karani.csv\")\n",
    "# features = vipar.drop([\"step\"], axis=1)\n",
    "# target = vipar[[\"step\"]]\n",
    "\n",
    "# vipar_model = RandomForestClassifier()\n",
    "# vipar_model.fit(features, target)\n",
    "\n",
    "# print(classification_report(target, vipar_model.predict(features)))\n"
   ]
  },
  {
   "cell_type": "code",
   "execution_count": null,
   "metadata": {},
   "outputs": [],
   "source": [
    "poses = {\n",
    "    0: \"Anantasana\",\n",
    "    1: \"Ardhakati_Chakrasana\",\n",
    "    2: \"Bhujangasana\",\n",
    "    3: \"Kati_Chakrasana\",\n",
    "    4: \"Marjariasana\",\n",
    "    5: \"Parvatasana\",\n",
    "    6: \"Sarvangasana\",\n",
    "    7: \"Tadasana\",\n",
    "    8: \"Vajrasana\",\n",
    "    9: \"Viparita_Karani\"\n",
    "}\n"
   ]
  }
 ],
 "metadata": {
  "kernelspec": {
   "display_name": "venv",
   "language": "python",
   "name": "python3"
  },
  "language_info": {
   "codemirror_mode": {
    "name": "ipython",
    "version": 3
   },
   "file_extension": ".py",
   "mimetype": "text/x-python",
   "name": "python",
   "nbconvert_exporter": "python",
   "pygments_lexer": "ipython3",
   "version": "3.10.11"
  }
 },
 "nbformat": 4,
 "nbformat_minor": 2
}
