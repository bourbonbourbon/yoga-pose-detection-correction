{
 "cells": [
  {
   "cell_type": "code",
   "execution_count": null,
   "metadata": {},
   "outputs": [],
   "source": [
    "import mediapipe as mp\n",
    "import pandas as pd\n",
    "import numpy as np\n",
    "import cv2\n",
    "import os\n"
   ]
  },
  {
   "cell_type": "code",
   "execution_count": null,
   "metadata": {},
   "outputs": [],
   "source": [
    "mp_pose = mp.solutions.pose\n"
   ]
  },
  {
   "cell_type": "code",
   "execution_count": null,
   "metadata": {},
   "outputs": [],
   "source": [
    "landmarks_points = {\n",
    "    \"nose\": 0,\n",
    "    \"left_shoulder\": 11, \"right_shoulder\": 12,\n",
    "    \"left_elbow\": 13, \"right_elbow\": 14,\n",
    "    \"left_wrist\": 15, \"right_wrist\": 16,\n",
    "    \"left_hip\": 23, \"right_hip\": 24,\n",
    "    \"left_knee\": 25, \"right_knee\": 26,\n",
    "    \"left_ankle\": 27, \"right_ankle\": 28,\n",
    "    \"left_heel\": 29, \"right_heel\": 30,\n",
    "    \"left_foot_index\": 31, \"right_foot_index\": 32,\n",
    "}\n",
    "\n",
    "col_names = []\n",
    "for i in range(len(landmarks_points.keys())):\n",
    "    name = list(landmarks_points.keys())[i]\n",
    "    col_names.append(name + \"_x\")\n",
    "    col_names.append(name + \"_y\")\n",
    "    col_names.append(name + \"_z\")\n",
    "    col_names.append(name + \"_v\")\n",
    "col_names.append(\"pose\")\n"
   ]
  },
  {
   "cell_type": "code",
   "execution_count": null,
   "metadata": {},
   "outputs": [],
   "source": [
    "full_list = []\n",
    "\n",
    "main_dir = \"./DATASET/TRAIN\"\n",
    "pose_dir_list = os.listdir(main_dir)\n",
    "\n",
    "for j in range(0, len(pose_dir_list)):\n",
    "    dir_list = os.listdir(f\"{main_dir}/{pose_dir_list[j]}\")\n",
    "\n",
    "    for i in range(0, len(dir_list)):\n",
    "\n",
    "        pre_list = []\n",
    "\n",
    "        with mp_pose.Pose(static_image_mode=True, enable_segmentation=True) as pose:\n",
    "            image = cv2.imread(f\"{main_dir}/{pose_dir_list[j]}/{dir_list[i]}\")\n",
    "            result = pose.process(cv2.cvtColor(image, cv2.COLOR_BGR2RGB))\n",
    "\n",
    "            try:\n",
    "                for landmarks in result.pose_landmarks.landmark:\n",
    "                    pre_list.append(landmarks)\n",
    "            except AttributeError:\n",
    "                print(\n",
    "                    f\"No points on {main_dir}/{pose_dir_list[j]}/{dir_list[i]}\")\n",
    "\n",
    "        gen1116 = np.array([[pre_list[k].x, pre_list[k].y, pre_list[k].z,\n",
    "                           pre_list[k].visibility] for k in range(11, 17)]).flatten().tolist()\n",
    "\n",
    "        gen2333 = np.array([[pre_list[k].x, pre_list[k].y, pre_list[k].z,\n",
    "                           pre_list[k].visibility] for k in range(23, 33)]).flatten().tolist()\n",
    "\n",
    "        gen1116.extend(gen2333)\n",
    "\n",
    "        all_list = [\n",
    "            pre_list[0].x,\n",
    "            pre_list[0].y,\n",
    "            pre_list[0].z,\n",
    "            pre_list[0].visibility,\n",
    "        ]\n",
    "\n",
    "        all_list.extend(gen1116)\n",
    "        all_list.append(j)\n",
    "        full_list.append(all_list)\n"
   ]
  },
  {
   "cell_type": "code",
   "execution_count": 289,
   "metadata": {},
   "outputs": [],
   "source": [
    "data = pd.DataFrame(full_list, columns=col_names)\n",
    "data.to_csv(\"./DATASET/data.csv\", index=False)\n"
   ]
  }
 ],
 "metadata": {
  "kernelspec": {
   "display_name": "venv",
   "language": "python",
   "name": "python3"
  },
  "language_info": {
   "codemirror_mode": {
    "name": "ipython",
    "version": 3
   },
   "file_extension": ".py",
   "mimetype": "text/x-python",
   "name": "python",
   "nbconvert_exporter": "python",
   "pygments_lexer": "ipython3",
   "version": "3.10.11"
  }
 },
 "nbformat": 4,
 "nbformat_minor": 2
}
