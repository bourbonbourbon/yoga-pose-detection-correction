{
 "cells": [
  {
   "cell_type": "code",
   "execution_count": 1,
   "metadata": {},
   "outputs": [],
   "source": [
    "import pandas as pd\n",
    "import numpy as np\n",
    "import pickle as pk\n",
    "from sklearn.ensemble import RandomForestClassifier\n",
    "from sklearn.model_selection import train_test_split\n",
    "from sklearn.multioutput import MultiOutputClassifier\n",
    "from sklearn.metrics import accuracy_score\n"
   ]
  },
  {
   "cell_type": "code",
   "execution_count": 2,
   "metadata": {},
   "outputs": [
    {
     "data": {
      "text/html": [
       "<div>\n",
       "<style scoped>\n",
       "    .dataframe tbody tr th:only-of-type {\n",
       "        vertical-align: middle;\n",
       "    }\n",
       "\n",
       "    .dataframe tbody tr th {\n",
       "        vertical-align: top;\n",
       "    }\n",
       "\n",
       "    .dataframe thead th {\n",
       "        text-align: right;\n",
       "    }\n",
       "</style>\n",
       "<table border=\"1\" class=\"dataframe\">\n",
       "  <thead>\n",
       "    <tr style=\"text-align: right;\">\n",
       "      <th></th>\n",
       "      <th>nose_x</th>\n",
       "      <th>nose_y</th>\n",
       "      <th>nose_z</th>\n",
       "      <th>nose_v</th>\n",
       "      <th>left_shoulder_x</th>\n",
       "      <th>left_shoulder_y</th>\n",
       "      <th>left_shoulder_z</th>\n",
       "      <th>left_shoulder_v</th>\n",
       "      <th>right_shoulder_x</th>\n",
       "      <th>right_shoulder_y</th>\n",
       "      <th>...</th>\n",
       "      <th>left_foot_index_y</th>\n",
       "      <th>left_foot_index_z</th>\n",
       "      <th>left_foot_index_v</th>\n",
       "      <th>right_foot_index_x</th>\n",
       "      <th>right_foot_index_y</th>\n",
       "      <th>right_foot_index_z</th>\n",
       "      <th>right_foot_index_v</th>\n",
       "      <th>pose</th>\n",
       "      <th>correct</th>\n",
       "      <th>step</th>\n",
       "    </tr>\n",
       "  </thead>\n",
       "  <tbody>\n",
       "    <tr>\n",
       "      <th>0</th>\n",
       "      <td>0.471043</td>\n",
       "      <td>0.715024</td>\n",
       "      <td>-0.318419</td>\n",
       "      <td>0.981122</td>\n",
       "      <td>0.425809</td>\n",
       "      <td>0.652623</td>\n",
       "      <td>-0.194296</td>\n",
       "      <td>0.995248</td>\n",
       "      <td>0.543037</td>\n",
       "      <td>0.668582</td>\n",
       "      <td>...</td>\n",
       "      <td>0.361520</td>\n",
       "      <td>0.435238</td>\n",
       "      <td>0.339473</td>\n",
       "      <td>0.531366</td>\n",
       "      <td>0.329219</td>\n",
       "      <td>0.451995</td>\n",
       "      <td>0.185829</td>\n",
       "      <td>0</td>\n",
       "      <td>0</td>\n",
       "      <td>0</td>\n",
       "    </tr>\n",
       "    <tr>\n",
       "      <th>1</th>\n",
       "      <td>0.458709</td>\n",
       "      <td>0.762975</td>\n",
       "      <td>-0.171610</td>\n",
       "      <td>0.996881</td>\n",
       "      <td>0.487831</td>\n",
       "      <td>0.674606</td>\n",
       "      <td>-0.138267</td>\n",
       "      <td>0.996137</td>\n",
       "      <td>0.475767</td>\n",
       "      <td>0.644857</td>\n",
       "      <td>...</td>\n",
       "      <td>0.395488</td>\n",
       "      <td>0.474359</td>\n",
       "      <td>0.080846</td>\n",
       "      <td>0.514495</td>\n",
       "      <td>0.397352</td>\n",
       "      <td>0.467766</td>\n",
       "      <td>0.055228</td>\n",
       "      <td>0</td>\n",
       "      <td>0</td>\n",
       "      <td>0</td>\n",
       "    </tr>\n",
       "    <tr>\n",
       "      <th>2</th>\n",
       "      <td>0.461469</td>\n",
       "      <td>0.731856</td>\n",
       "      <td>-0.231723</td>\n",
       "      <td>0.941787</td>\n",
       "      <td>0.449222</td>\n",
       "      <td>0.629312</td>\n",
       "      <td>-0.139082</td>\n",
       "      <td>0.988798</td>\n",
       "      <td>0.531250</td>\n",
       "      <td>0.650280</td>\n",
       "      <td>...</td>\n",
       "      <td>0.454985</td>\n",
       "      <td>0.419889</td>\n",
       "      <td>0.085213</td>\n",
       "      <td>0.574922</td>\n",
       "      <td>0.453711</td>\n",
       "      <td>0.433322</td>\n",
       "      <td>0.084213</td>\n",
       "      <td>0</td>\n",
       "      <td>0</td>\n",
       "      <td>0</td>\n",
       "    </tr>\n",
       "    <tr>\n",
       "      <th>3</th>\n",
       "      <td>0.667741</td>\n",
       "      <td>0.400317</td>\n",
       "      <td>0.442511</td>\n",
       "      <td>0.729667</td>\n",
       "      <td>0.641468</td>\n",
       "      <td>0.435358</td>\n",
       "      <td>0.370686</td>\n",
       "      <td>0.999631</td>\n",
       "      <td>0.685328</td>\n",
       "      <td>0.397876</td>\n",
       "      <td>...</td>\n",
       "      <td>0.714341</td>\n",
       "      <td>-0.585603</td>\n",
       "      <td>0.952009</td>\n",
       "      <td>0.398631</td>\n",
       "      <td>0.726997</td>\n",
       "      <td>-0.651245</td>\n",
       "      <td>0.788665</td>\n",
       "      <td>0</td>\n",
       "      <td>0</td>\n",
       "      <td>0</td>\n",
       "    </tr>\n",
       "    <tr>\n",
       "      <th>4</th>\n",
       "      <td>0.438507</td>\n",
       "      <td>0.602888</td>\n",
       "      <td>-0.294648</td>\n",
       "      <td>0.997777</td>\n",
       "      <td>0.491524</td>\n",
       "      <td>0.583383</td>\n",
       "      <td>-0.214972</td>\n",
       "      <td>0.999542</td>\n",
       "      <td>0.485241</td>\n",
       "      <td>0.670385</td>\n",
       "      <td>...</td>\n",
       "      <td>0.671250</td>\n",
       "      <td>0.368280</td>\n",
       "      <td>0.676167</td>\n",
       "      <td>0.524678</td>\n",
       "      <td>0.682319</td>\n",
       "      <td>0.425517</td>\n",
       "      <td>0.250376</td>\n",
       "      <td>0</td>\n",
       "      <td>0</td>\n",
       "      <td>0</td>\n",
       "    </tr>\n",
       "  </tbody>\n",
       "</table>\n",
       "<p>5 rows × 71 columns</p>\n",
       "</div>"
      ],
      "text/plain": [
       "     nose_x    nose_y    nose_z    nose_v  left_shoulder_x  left_shoulder_y  \\\n",
       "0  0.471043  0.715024 -0.318419  0.981122         0.425809         0.652623   \n",
       "1  0.458709  0.762975 -0.171610  0.996881         0.487831         0.674606   \n",
       "2  0.461469  0.731856 -0.231723  0.941787         0.449222         0.629312   \n",
       "3  0.667741  0.400317  0.442511  0.729667         0.641468         0.435358   \n",
       "4  0.438507  0.602888 -0.294648  0.997777         0.491524         0.583383   \n",
       "\n",
       "   left_shoulder_z  left_shoulder_v  right_shoulder_x  right_shoulder_y  ...  \\\n",
       "0        -0.194296         0.995248          0.543037          0.668582  ...   \n",
       "1        -0.138267         0.996137          0.475767          0.644857  ...   \n",
       "2        -0.139082         0.988798          0.531250          0.650280  ...   \n",
       "3         0.370686         0.999631          0.685328          0.397876  ...   \n",
       "4        -0.214972         0.999542          0.485241          0.670385  ...   \n",
       "\n",
       "   left_foot_index_y  left_foot_index_z  left_foot_index_v  \\\n",
       "0           0.361520           0.435238           0.339473   \n",
       "1           0.395488           0.474359           0.080846   \n",
       "2           0.454985           0.419889           0.085213   \n",
       "3           0.714341          -0.585603           0.952009   \n",
       "4           0.671250           0.368280           0.676167   \n",
       "\n",
       "   right_foot_index_x  right_foot_index_y  right_foot_index_z  \\\n",
       "0            0.531366            0.329219            0.451995   \n",
       "1            0.514495            0.397352            0.467766   \n",
       "2            0.574922            0.453711            0.433322   \n",
       "3            0.398631            0.726997           -0.651245   \n",
       "4            0.524678            0.682319            0.425517   \n",
       "\n",
       "   right_foot_index_v  pose  correct  step  \n",
       "0            0.185829     0        0     0  \n",
       "1            0.055228     0        0     0  \n",
       "2            0.084213     0        0     0  \n",
       "3            0.788665     0        0     0  \n",
       "4            0.250376     0        0     0  \n",
       "\n",
       "[5 rows x 71 columns]"
      ]
     },
     "execution_count": 2,
     "metadata": {},
     "output_type": "execute_result"
    }
   ],
   "source": [
    "data = pd.read_csv(\"data.csv\")\n",
    "data.head()\n"
   ]
  },
  {
   "cell_type": "code",
   "execution_count": 3,
   "metadata": {},
   "outputs": [],
   "source": [
    "features = data.drop([\"pose\", \"correct\", \"step\"], axis=1)\n",
    "target = data[[\"pose\", \"correct\", \"step\"]]\n",
    "\n",
    "Xtrain, xtest, Ytrain, ytest = train_test_split(\n",
    "    features, target, test_size=0.2, random_state=1234)\n"
   ]
  },
  {
   "cell_type": "code",
   "execution_count": 4,
   "metadata": {},
   "outputs": [
    {
     "data": {
      "text/html": [
       "<style>#sk-container-id-1 {color: black;}#sk-container-id-1 pre{padding: 0;}#sk-container-id-1 div.sk-toggleable {background-color: white;}#sk-container-id-1 label.sk-toggleable__label {cursor: pointer;display: block;width: 100%;margin-bottom: 0;padding: 0.3em;box-sizing: border-box;text-align: center;}#sk-container-id-1 label.sk-toggleable__label-arrow:before {content: \"▸\";float: left;margin-right: 0.25em;color: #696969;}#sk-container-id-1 label.sk-toggleable__label-arrow:hover:before {color: black;}#sk-container-id-1 div.sk-estimator:hover label.sk-toggleable__label-arrow:before {color: black;}#sk-container-id-1 div.sk-toggleable__content {max-height: 0;max-width: 0;overflow: hidden;text-align: left;background-color: #f0f8ff;}#sk-container-id-1 div.sk-toggleable__content pre {margin: 0.2em;color: black;border-radius: 0.25em;background-color: #f0f8ff;}#sk-container-id-1 input.sk-toggleable__control:checked~div.sk-toggleable__content {max-height: 200px;max-width: 100%;overflow: auto;}#sk-container-id-1 input.sk-toggleable__control:checked~label.sk-toggleable__label-arrow:before {content: \"▾\";}#sk-container-id-1 div.sk-estimator input.sk-toggleable__control:checked~label.sk-toggleable__label {background-color: #d4ebff;}#sk-container-id-1 div.sk-label input.sk-toggleable__control:checked~label.sk-toggleable__label {background-color: #d4ebff;}#sk-container-id-1 input.sk-hidden--visually {border: 0;clip: rect(1px 1px 1px 1px);clip: rect(1px, 1px, 1px, 1px);height: 1px;margin: -1px;overflow: hidden;padding: 0;position: absolute;width: 1px;}#sk-container-id-1 div.sk-estimator {font-family: monospace;background-color: #f0f8ff;border: 1px dotted black;border-radius: 0.25em;box-sizing: border-box;margin-bottom: 0.5em;}#sk-container-id-1 div.sk-estimator:hover {background-color: #d4ebff;}#sk-container-id-1 div.sk-parallel-item::after {content: \"\";width: 100%;border-bottom: 1px solid gray;flex-grow: 1;}#sk-container-id-1 div.sk-label:hover label.sk-toggleable__label {background-color: #d4ebff;}#sk-container-id-1 div.sk-serial::before {content: \"\";position: absolute;border-left: 1px solid gray;box-sizing: border-box;top: 0;bottom: 0;left: 50%;z-index: 0;}#sk-container-id-1 div.sk-serial {display: flex;flex-direction: column;align-items: center;background-color: white;padding-right: 0.2em;padding-left: 0.2em;position: relative;}#sk-container-id-1 div.sk-item {position: relative;z-index: 1;}#sk-container-id-1 div.sk-parallel {display: flex;align-items: stretch;justify-content: center;background-color: white;position: relative;}#sk-container-id-1 div.sk-item::before, #sk-container-id-1 div.sk-parallel-item::before {content: \"\";position: absolute;border-left: 1px solid gray;box-sizing: border-box;top: 0;bottom: 0;left: 50%;z-index: -1;}#sk-container-id-1 div.sk-parallel-item {display: flex;flex-direction: column;z-index: 1;position: relative;background-color: white;}#sk-container-id-1 div.sk-parallel-item:first-child::after {align-self: flex-end;width: 50%;}#sk-container-id-1 div.sk-parallel-item:last-child::after {align-self: flex-start;width: 50%;}#sk-container-id-1 div.sk-parallel-item:only-child::after {width: 0;}#sk-container-id-1 div.sk-dashed-wrapped {border: 1px dashed gray;margin: 0 0.4em 0.5em 0.4em;box-sizing: border-box;padding-bottom: 0.4em;background-color: white;}#sk-container-id-1 div.sk-label label {font-family: monospace;font-weight: bold;display: inline-block;line-height: 1.2em;}#sk-container-id-1 div.sk-label-container {text-align: center;}#sk-container-id-1 div.sk-container {/* jupyter's `normalize.less` sets `[hidden] { display: none; }` but bootstrap.min.css set `[hidden] { display: none !important; }` so we also need the `!important` here to be able to override the default hidden behavior on the sphinx rendered scikit-learn.org. See: https://github.com/scikit-learn/scikit-learn/issues/21755 */display: inline-block !important;position: relative;}#sk-container-id-1 div.sk-text-repr-fallback {display: none;}</style><div id=\"sk-container-id-1\" class=\"sk-top-container\"><div class=\"sk-text-repr-fallback\"><pre>MultiOutputClassifier(estimator=RandomForestClassifier(), n_jobs=-1)</pre><b>In a Jupyter environment, please rerun this cell to show the HTML representation or trust the notebook. <br />On GitHub, the HTML representation is unable to render, please try loading this page with nbviewer.org.</b></div><div class=\"sk-container\" hidden><div class=\"sk-item sk-dashed-wrapped\"><div class=\"sk-label-container\"><div class=\"sk-label sk-toggleable\"><input class=\"sk-toggleable__control sk-hidden--visually\" id=\"sk-estimator-id-1\" type=\"checkbox\" ><label for=\"sk-estimator-id-1\" class=\"sk-toggleable__label sk-toggleable__label-arrow\">MultiOutputClassifier</label><div class=\"sk-toggleable__content\"><pre>MultiOutputClassifier(estimator=RandomForestClassifier(), n_jobs=-1)</pre></div></div></div><div class=\"sk-parallel\"><div class=\"sk-parallel-item\"><div class=\"sk-item\"><div class=\"sk-label-container\"><div class=\"sk-label sk-toggleable\"><input class=\"sk-toggleable__control sk-hidden--visually\" id=\"sk-estimator-id-2\" type=\"checkbox\" ><label for=\"sk-estimator-id-2\" class=\"sk-toggleable__label sk-toggleable__label-arrow\">estimator: RandomForestClassifier</label><div class=\"sk-toggleable__content\"><pre>RandomForestClassifier()</pre></div></div></div><div class=\"sk-serial\"><div class=\"sk-item\"><div class=\"sk-estimator sk-toggleable\"><input class=\"sk-toggleable__control sk-hidden--visually\" id=\"sk-estimator-id-3\" type=\"checkbox\" ><label for=\"sk-estimator-id-3\" class=\"sk-toggleable__label sk-toggleable__label-arrow\">RandomForestClassifier</label><div class=\"sk-toggleable__content\"><pre>RandomForestClassifier()</pre></div></div></div></div></div></div></div></div></div></div>"
      ],
      "text/plain": [
       "MultiOutputClassifier(estimator=RandomForestClassifier(), n_jobs=-1)"
      ]
     },
     "execution_count": 4,
     "metadata": {},
     "output_type": "execute_result"
    }
   ],
   "source": [
    "model = RandomForestClassifier()\n",
    "classifier = MultiOutputClassifier(model, n_jobs=-1)\n",
    "classifier.fit(Xtrain, Ytrain)\n"
   ]
  },
  {
   "cell_type": "code",
   "execution_count": 5,
   "metadata": {},
   "outputs": [
    {
     "name": "stdout",
     "output_type": "stream",
     "text": [
      "0.50472334682861\n"
     ]
    }
   ],
   "source": [
    "print(classifier.score(xtest, np.array(ytest)))\n"
   ]
  },
  {
   "cell_type": "code",
   "execution_count": 21,
   "metadata": {},
   "outputs": [],
   "source": [
    "import mediapipe as mp\n",
    "import cv2\n",
    "import os\n"
   ]
  },
  {
   "cell_type": "code",
   "execution_count": 22,
   "metadata": {},
   "outputs": [],
   "source": [
    "mp_pose = mp.solutions.pose\n"
   ]
  },
  {
   "cell_type": "code",
   "execution_count": 23,
   "metadata": {},
   "outputs": [],
   "source": [
    "landmarks_points = {\n",
    "    \"nose\": 0,\n",
    "    \"left_shoulder\": 11, \"right_shoulder\": 12,\n",
    "    \"left_elbow\": 13, \"right_elbow\": 14,\n",
    "    \"left_wrist\": 15, \"right_wrist\": 16,\n",
    "    \"left_hip\": 23, \"right_hip\": 24,\n",
    "    \"left_knee\": 25, \"right_knee\": 26,\n",
    "    \"left_ankle\": 27, \"right_ankle\": 28,\n",
    "    \"left_heel\": 29, \"right_heel\": 30,\n",
    "    \"left_foot_index\": 31, \"right_foot_index\": 32,\n",
    "}\n",
    "\n",
    "col_names = []\n",
    "for i in range(len(landmarks_points.keys())):\n",
    "    name = list(landmarks_points.keys())[i]\n",
    "    col_names.append(name + \"_x\")\n",
    "    col_names.append(name + \"_y\")\n",
    "    col_names.append(name + \"_z\")\n",
    "    col_names.append(name + \"_v\")\n"
   ]
  },
  {
   "cell_type": "code",
   "execution_count": 24,
   "metadata": {},
   "outputs": [],
   "source": [
    "full_list = []\n",
    "\n",
    "main_dir = \"./DATASET/TEST\"\n",
    "pose_dir_list = os.listdir(main_dir)\n",
    "\n",
    "for j in range(4, len(pose_dir_list)):\n",
    "    dir_list = os.listdir(f\"{main_dir}/{pose_dir_list[j]}\")\n",
    "\n",
    "    for i in range(108, len(dir_list)):\n",
    "\n",
    "        pre_list = []\n",
    "\n",
    "        with mp_pose.Pose(static_image_mode=True, enable_segmentation=True) as pose:\n",
    "            image = cv2.imread(f\"{main_dir}/{pose_dir_list[j]}/{dir_list[i]}\")\n",
    "            result = pose.process(cv2.cvtColor(image, cv2.COLOR_BGR2RGB))\n",
    "\n",
    "            try:\n",
    "                predict = True\n",
    "                for landmarks in result.pose_landmarks.landmark:\n",
    "                    pre_list.append(landmarks)\n",
    "            except AttributeError:\n",
    "                print(\n",
    "                    f\"No points on {main_dir}/{pose_dir_list[j]}/{dir_list[i]}\")\n",
    "                predict = False\n",
    "\n",
    "        if predict == True:\n",
    "            gen1116 = np.array([\n",
    "                [\n",
    "                    pre_list[k].x,\n",
    "                    pre_list[k].y,\n",
    "                    pre_list[k].z,\n",
    "                    pre_list[k].visibility\n",
    "                ] for k in range(11, 17)\n",
    "            ]).flatten().tolist()\n",
    "\n",
    "            gen2333 = np.array([\n",
    "                [\n",
    "                    pre_list[k].x,\n",
    "                    pre_list[k].y,\n",
    "                    pre_list[k].z,\n",
    "                    pre_list[k].visibility\n",
    "                ] for k in range(23, 33)\n",
    "            ]).flatten().tolist()\n",
    "\n",
    "            gen1116.extend(gen2333)\n",
    "\n",
    "            all_list = [\n",
    "                pre_list[0].x,\n",
    "                pre_list[0].y,\n",
    "                pre_list[0].z,\n",
    "                pre_list[0].visibility,\n",
    "            ]\n",
    "\n",
    "            all_list.extend(gen1116)\n"
   ]
  },
  {
   "cell_type": "code",
   "execution_count": 25,
   "metadata": {},
   "outputs": [],
   "source": [
    "data_x = pd.DataFrame([all_list], columns=col_names)\n"
   ]
  },
  {
   "cell_type": "code",
   "execution_count": 26,
   "metadata": {},
   "outputs": [],
   "source": [
    "pred = model.predict(data_x)\n"
   ]
  },
  {
   "cell_type": "code",
   "execution_count": 27,
   "metadata": {},
   "outputs": [],
   "source": [
    "pose_to_class_name = {\n",
    "    0: \"downdog\",\n",
    "    1: \"goddess\",\n",
    "    2: \"plank\",\n",
    "    3: \"tree\",\n",
    "    4: \"warrior2\"\n",
    "}\n"
   ]
  },
  {
   "cell_type": "code",
   "execution_count": 28,
   "metadata": {},
   "outputs": [
    {
     "name": "stdout",
     "output_type": "stream",
     "text": [
      "The yoga pose is: warrior2\n"
     ]
    }
   ],
   "source": [
    "print(f\"The yoga pose is: {pose_to_class_name[pred[0]]}\")\n"
   ]
  },
  {
   "cell_type": "code",
   "execution_count": 29,
   "metadata": {},
   "outputs": [],
   "source": [
    "pk.dump(model, open(\"./models/rfc.model\", \"wb\"))\n"
   ]
  },
  {
   "cell_type": "code",
   "execution_count": 30,
   "metadata": {},
   "outputs": [
    {
     "name": "stdout",
     "output_type": "stream",
     "text": [
      "0.9425837320574163\n"
     ]
    }
   ],
   "source": [
    "loaded_model = pk.load(open(\"./models/rfc.model\", \"rb\"))\n",
    "result = loaded_model.score(xtest, ytest)\n",
    "print(result)\n"
   ]
  }
 ],
 "metadata": {
  "kernelspec": {
   "display_name": "venv",
   "language": "python",
   "name": "python3"
  },
  "language_info": {
   "codemirror_mode": {
    "name": "ipython",
    "version": 3
   },
   "file_extension": ".py",
   "mimetype": "text/x-python",
   "name": "python",
   "nbconvert_exporter": "python",
   "pygments_lexer": "ipython3",
   "version": "3.10.11"
  }
 },
 "nbformat": 4,
 "nbformat_minor": 2
}
