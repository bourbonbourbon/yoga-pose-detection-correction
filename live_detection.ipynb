{
 "cells": [
  {
   "cell_type": "code",
   "execution_count": null,
   "metadata": {},
   "outputs": [],
   "source": [
    "import cv2\n",
    "import mediapipe as mp\n",
    "import numpy as np\n",
    "import pandas as pd\n",
    "from time import sleep\n",
    "\n",
    "# import warnings\n",
    "# warnings.filterwarnings(\"ignore\")\n",
    "\n",
    "# import TTS\n"
   ]
  },
  {
   "cell_type": "code",
   "execution_count": null,
   "metadata": {},
   "outputs": [],
   "source": [
    "# make border and send the recommendations as well\n",
    "# say\n",
    "#   no pose detected\n",
    "#   say video not clear \n"
   ]
  },
  {
   "cell_type": "code",
   "execution_count": null,
   "metadata": {},
   "outputs": [],
   "source": [
    "def init_cam():\n",
    "    cam = cv2.VideoCapture(0)\n",
    "    print(\"Starting camera...\")\n",
    "    cam.set(cv2.CAP_PROP_AUTOFOCUS, 0)\n",
    "    cam.set(cv2.CAP_PROP_FOCUS, 360) # fix this\n",
    "    cam.set(cv2.CAP_PROP_BRIGHTNESS, 130)\n",
    "    cam.set(cv2.CAP_PROP_SHARPNESS, 125)\n",
    "    cam.set(cv2.CAP_PROP_FRAME_WIDTH, 1280)\n",
    "    cam.set(cv2.CAP_PROP_FRAME_HEIGHT, 720)\n",
    "    face_cascade = cv2.CascadeClassifier(\n",
    "        \"./haarcascade/haarcascade_frontalface_default.xml\")\n",
    "    return cam, face_cascade\n",
    "\n",
    "\n",
    "def destory_cam(cam):\n",
    "    cv2.destroyAllWindows()\n",
    "    cam.release()\n",
    "\n",
    "\n",
    "def variance_of_laplacian(image):\n",
    "    return cv2.Laplacian(image, cv2.CV_64F).var()\n",
    "\n",
    "\n"
   ]
  },
  {
   "cell_type": "code",
   "execution_count": null,
   "metadata": {},
   "outputs": [],
   "source": [
    "while True:\n",
    "    cam, face_cascade = init_cam()\n",
    "    result, image = cam.read()\n",
    "    gray_img = cv2.cvtColor(image, cv2.COLOR_BGR2GRAY)\n",
    "    face = face_cascade.detectMultiScale(\n",
    "        gray_img,\n",
    "        scaleFactor=1.1,\n",
    "        minNeighbors=5,\n",
    "        minSize=(40, 40)\n",
    "    )\n",
    "    if result:\n",
    "        var = variance_of_laplacian(image)\n",
    "        if var > 30 and len(face) != 0:\n",
    "            pass\n",
    "    sleep(5)\n"
   ]
  }
 ],
 "metadata": {
  "kernelspec": {
   "display_name": "venv",
   "language": "python",
   "name": "python3"
  },
  "language_info": {
   "name": "python",
   "version": "3.10.11"
  }
 },
 "nbformat": 4,
 "nbformat_minor": 2
}
